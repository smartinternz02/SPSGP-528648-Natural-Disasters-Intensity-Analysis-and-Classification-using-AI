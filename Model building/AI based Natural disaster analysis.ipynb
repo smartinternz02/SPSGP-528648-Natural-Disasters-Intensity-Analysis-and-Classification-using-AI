{
 "cells": [
  {
   "cell_type": "code",
   "execution_count": 2,
   "id": "16ee9389",
   "metadata": {},
   "outputs": [
    {
     "name": "stdout",
     "output_type": "stream",
     "text": [
      "Found 742 images belonging to 4 classes.\n",
      "Found 197 images belonging to 4 classes.\n"
     ]
    }
   ],
   "source": [
    "from keras.preprocessing.image import ImageDataGenerator\n",
    "train_datagen=ImageDataGenerator(rescale=1./255,shear_range=0.2,zoom_range=0.2,horizontal_flip=True)\n",
    "test_datagen=ImageDataGenerator(rescale=1./255)\n",
    "x_train=train_datagen.flow_from_directory(r'D:\\Project3-2\\dataset\\train_set',target_size=(64,64),batch_size=5,color_mode='rgb',class_mode='categorical')\n",
    "x_test=test_datagen.flow_from_directory(r'D:\\Project3-2\\dataset\\test_set',target_size=(64,64),batch_size=5,color_mode='rgb',class_mode='categorical')"
   ]
  },
  {
   "cell_type": "code",
   "execution_count": 5,
   "id": "73cd13bb",
   "metadata": {},
   "outputs": [
    {
     "name": "stdout",
     "output_type": "stream",
     "text": [
      "Model: \"sequential\"\n",
      "_________________________________________________________________\n",
      "Layer (type)                 Output Shape              Param #   \n",
      "=================================================================\n",
      "conv2d (Conv2D)              (None, 62, 62, 32)        896       \n",
      "_________________________________________________________________\n",
      "max_pooling2d (MaxPooling2D) (None, 31, 31, 32)        0         \n",
      "_________________________________________________________________\n",
      "conv2d_1 (Conv2D)            (None, 29, 29, 32)        9248      \n",
      "_________________________________________________________________\n",
      "max_pooling2d_1 (MaxPooling2 (None, 14, 14, 32)        0         \n",
      "_________________________________________________________________\n",
      "flatten (Flatten)            (None, 6272)              0         \n",
      "_________________________________________________________________\n",
      "dense (Dense)                (None, 128)               802944    \n",
      "_________________________________________________________________\n",
      "dense_1 (Dense)              (None, 4)                 516       \n",
      "=================================================================\n",
      "Total params: 813,604\n",
      "Trainable params: 813,604\n",
      "Non-trainable params: 0\n",
      "_________________________________________________________________\n"
     ]
    }
   ],
   "source": [
    "\n",
    "\n",
    "import numpy as np\n",
    "import tensorflow\n",
    "from tensorflow.keras.models import Sequential\n",
    "from tensorflow.keras import layers\n",
    "from tensorflow.keras.layers import Dense,Flatten\n",
    "from tensorflow.keras.layers import Conv2D,MaxPooling2D\n",
    "from keras.preprocessing.image import ImageDataGenerator\n",
    "\n",
    "model=Sequential()\n",
    "\n",
    "model.add(Conv2D(32,(3,3),input_shape=(64,64,3),activation='relu'))\n",
    "model.add(MaxPooling2D(pool_size=(2,2)))\n",
    "model.add(Conv2D(32,(3,3),activation='relu'))\n",
    "model.add(MaxPooling2D(pool_size=(2,2)))\n",
    "model.add(Flatten())\n",
    "\n",
    "model.add(Dense(units=128,activation='relu'))\n",
    "model.add(Dense(units=4,activation='softmax'))\n",
    "\n",
    "model.summary()"
   ]
  },
  {
   "cell_type": "code",
   "execution_count": 6,
   "id": "bca21238",
   "metadata": {},
   "outputs": [],
   "source": [
    "model.compile(optimizer='adam',loss='categorical_crossentropy',metrics=['accuracy'])"
   ]
  },
  {
   "cell_type": "code",
   "execution_count": 7,
   "id": "8cd99036",
   "metadata": {},
   "outputs": [
    {
     "name": "stderr",
     "output_type": "stream",
     "text": [
      "C:\\Users\\naray\\AppData\\Roaming\\Python\\Python39\\site-packages\\tensorflow\\python\\keras\\engine\\training.py:1935: UserWarning: `Model.fit_generator` is deprecated and will be removed in a future version. Please use `Model.fit`, which supports generators.\n",
      "  warnings.warn('`Model.fit_generator` is deprecated and '\n"
     ]
    },
    {
     "name": "stdout",
     "output_type": "stream",
     "text": [
      "Epoch 1/20\n",
      "149/149 [==============================] - 70s 467ms/step - loss: 1.2095 - accuracy: 0.4515 - val_loss: 1.2786 - val_accuracy: 0.5025\n",
      "Epoch 2/20\n",
      "149/149 [==============================] - 49s 329ms/step - loss: 0.8989 - accuracy: 0.6267 - val_loss: 0.9170 - val_accuracy: 0.6142\n",
      "Epoch 3/20\n",
      "149/149 [==============================] - 49s 329ms/step - loss: 0.7430 - accuracy: 0.6981 - val_loss: 1.0551 - val_accuracy: 0.5838\n",
      "Epoch 4/20\n",
      "149/149 [==============================] - 49s 328ms/step - loss: 0.6335 - accuracy: 0.7507 - val_loss: 0.7844 - val_accuracy: 0.7107\n",
      "Epoch 5/20\n",
      "149/149 [==============================] - 49s 332ms/step - loss: 0.6084 - accuracy: 0.7695 - val_loss: 0.9934 - val_accuracy: 0.6599\n",
      "Epoch 6/20\n",
      "149/149 [==============================] - 50s 335ms/step - loss: 0.5035 - accuracy: 0.8100 - val_loss: 0.7612 - val_accuracy: 0.7665\n",
      "Epoch 7/20\n",
      "149/149 [==============================] - 49s 330ms/step - loss: 0.4694 - accuracy: 0.8235 - val_loss: 0.7831 - val_accuracy: 0.7259\n",
      "Epoch 8/20\n",
      "149/149 [==============================] - 49s 328ms/step - loss: 0.4855 - accuracy: 0.8356 - val_loss: 0.8431 - val_accuracy: 0.7411\n",
      "Epoch 9/20\n",
      "149/149 [==============================] - 49s 324ms/step - loss: 0.4167 - accuracy: 0.8558 - val_loss: 0.7097 - val_accuracy: 0.7614\n",
      "Epoch 10/20\n",
      "149/149 [==============================] - 49s 329ms/step - loss: 0.4005 - accuracy: 0.8477 - val_loss: 0.7876 - val_accuracy: 0.7868\n",
      "Epoch 11/20\n",
      "149/149 [==============================] - 49s 328ms/step - loss: 0.3855 - accuracy: 0.8693 - val_loss: 0.7434 - val_accuracy: 0.7614\n",
      "Epoch 12/20\n",
      "149/149 [==============================] - 49s 331ms/step - loss: 0.4007 - accuracy: 0.8423 - val_loss: 1.0579 - val_accuracy: 0.7259\n",
      "Epoch 13/20\n",
      "149/149 [==============================] - 49s 329ms/step - loss: 0.2882 - accuracy: 0.8962 - val_loss: 0.7746 - val_accuracy: 0.7563\n",
      "Epoch 14/20\n",
      "149/149 [==============================] - 2364s 16s/step - loss: 0.2942 - accuracy: 0.8908 - val_loss: 0.8223 - val_accuracy: 0.7766\n",
      "Epoch 15/20\n",
      "149/149 [==============================] - 26s 168ms/step - loss: 0.2699 - accuracy: 0.8989 - val_loss: 0.8925 - val_accuracy: 0.7310\n",
      "Epoch 16/20\n",
      "149/149 [==============================] - 26s 173ms/step - loss: 0.2798 - accuracy: 0.8949 - val_loss: 0.9377 - val_accuracy: 0.7462\n",
      "Epoch 17/20\n",
      "149/149 [==============================] - 32s 216ms/step - loss: 0.2228 - accuracy: 0.9084 - val_loss: 0.9725 - val_accuracy: 0.7513\n",
      "Epoch 18/20\n",
      "149/149 [==============================] - 49s 329ms/step - loss: 0.2126 - accuracy: 0.9232 - val_loss: 1.3658 - val_accuracy: 0.6701\n",
      "Epoch 19/20\n",
      "149/149 [==============================] - 49s 328ms/step - loss: 0.2106 - accuracy: 0.9313 - val_loss: 1.5290 - val_accuracy: 0.6497\n",
      "Epoch 20/20\n",
      "149/149 [==============================] - 49s 330ms/step - loss: 0.2428 - accuracy: 0.9137 - val_loss: 1.0436 - val_accuracy: 0.7462\n"
     ]
    },
    {
     "data": {
      "text/plain": [
       "<tensorflow.python.keras.callbacks.History at 0x2925774c4f0>"
      ]
     },
     "execution_count": 7,
     "metadata": {},
     "output_type": "execute_result"
    }
   ],
   "source": [
    "model.fit_generator(generator=x_train,steps_per_epoch=len(x_train),epochs=20,validation_data=x_test,validation_steps=len(x_test))"
   ]
  },
  {
   "cell_type": "code",
   "execution_count": 8,
   "id": "236720cd",
   "metadata": {},
   "outputs": [],
   "source": [
    "model.save('disaster.h5')"
   ]
  },
  {
   "cell_type": "code",
   "execution_count": 9,
   "id": "50be84cd",
   "metadata": {},
   "outputs": [],
   "source": [
    "model_json=model.to_json()\n",
    "with open(\"model-bw.json\",\"w\") as json_file:\n",
    "    json_file.write(model_json)"
   ]
  },
  {
   "cell_type": "code",
   "execution_count": 10,
   "id": "f9818fa3",
   "metadata": {},
   "outputs": [
    {
     "data": {
      "text/plain": [
       "'{\"class_name\": \"Sequential\", \"config\": {\"name\": \"sequential\", \"layers\": [{\"class_name\": \"InputLayer\", \"config\": {\"batch_input_shape\": [null, 64, 64, 3], \"dtype\": \"float32\", \"sparse\": false, \"ragged\": false, \"name\": \"conv2d_input\"}}, {\"class_name\": \"Conv2D\", \"config\": {\"name\": \"conv2d\", \"trainable\": true, \"batch_input_shape\": [null, 64, 64, 3], \"dtype\": \"float32\", \"filters\": 32, \"kernel_size\": [3, 3], \"strides\": [1, 1], \"padding\": \"valid\", \"data_format\": \"channels_last\", \"dilation_rate\": [1, 1], \"groups\": 1, \"activation\": \"relu\", \"use_bias\": true, \"kernel_initializer\": {\"class_name\": \"GlorotUniform\", \"config\": {\"seed\": null}}, \"bias_initializer\": {\"class_name\": \"Zeros\", \"config\": {}}, \"kernel_regularizer\": null, \"bias_regularizer\": null, \"activity_regularizer\": null, \"kernel_constraint\": null, \"bias_constraint\": null}}, {\"class_name\": \"MaxPooling2D\", \"config\": {\"name\": \"max_pooling2d\", \"trainable\": true, \"dtype\": \"float32\", \"pool_size\": [2, 2], \"padding\": \"valid\", \"strides\": [2, 2], \"data_format\": \"channels_last\"}}, {\"class_name\": \"Conv2D\", \"config\": {\"name\": \"conv2d_1\", \"trainable\": true, \"dtype\": \"float32\", \"filters\": 32, \"kernel_size\": [3, 3], \"strides\": [1, 1], \"padding\": \"valid\", \"data_format\": \"channels_last\", \"dilation_rate\": [1, 1], \"groups\": 1, \"activation\": \"relu\", \"use_bias\": true, \"kernel_initializer\": {\"class_name\": \"GlorotUniform\", \"config\": {\"seed\": null}}, \"bias_initializer\": {\"class_name\": \"Zeros\", \"config\": {}}, \"kernel_regularizer\": null, \"bias_regularizer\": null, \"activity_regularizer\": null, \"kernel_constraint\": null, \"bias_constraint\": null}}, {\"class_name\": \"MaxPooling2D\", \"config\": {\"name\": \"max_pooling2d_1\", \"trainable\": true, \"dtype\": \"float32\", \"pool_size\": [2, 2], \"padding\": \"valid\", \"strides\": [2, 2], \"data_format\": \"channels_last\"}}, {\"class_name\": \"Flatten\", \"config\": {\"name\": \"flatten\", \"trainable\": true, \"dtype\": \"float32\", \"data_format\": \"channels_last\"}}, {\"class_name\": \"Dense\", \"config\": {\"name\": \"dense\", \"trainable\": true, \"dtype\": \"float32\", \"units\": 128, \"activation\": \"relu\", \"use_bias\": true, \"kernel_initializer\": {\"class_name\": \"GlorotUniform\", \"config\": {\"seed\": null}}, \"bias_initializer\": {\"class_name\": \"Zeros\", \"config\": {}}, \"kernel_regularizer\": null, \"bias_regularizer\": null, \"activity_regularizer\": null, \"kernel_constraint\": null, \"bias_constraint\": null}}, {\"class_name\": \"Dense\", \"config\": {\"name\": \"dense_1\", \"trainable\": true, \"dtype\": \"float32\", \"units\": 4, \"activation\": \"softmax\", \"use_bias\": true, \"kernel_initializer\": {\"class_name\": \"GlorotUniform\", \"config\": {\"seed\": null}}, \"bias_initializer\": {\"class_name\": \"Zeros\", \"config\": {}}, \"kernel_regularizer\": null, \"bias_regularizer\": null, \"activity_regularizer\": null, \"kernel_constraint\": null, \"bias_constraint\": null}}]}, \"keras_version\": \"2.5.0\", \"backend\": \"tensorflow\"}'"
      ]
     },
     "execution_count": 10,
     "metadata": {},
     "output_type": "execute_result"
    }
   ],
   "source": [
    "model_json"
   ]
  },
  {
   "cell_type": "code",
   "execution_count": 15,
   "id": "28bcff07",
   "metadata": {},
   "outputs": [],
   "source": [
    "from tensorflow.keras.models import load_model\n",
    "from keras.preprocessing import image\n",
    "model=load_model(\"disaster.h5\")\n",
    "\n",
    "img=image.load_img(r\"6.jpg\",target_size=(64,64))"
   ]
  },
  {
   "cell_type": "code",
   "execution_count": 16,
   "id": "ee154e7f",
   "metadata": {},
   "outputs": [
    {
     "data": {
      "image/png": "[encoded data removed]",
      "text/plain": [
       "<PIL.Image.Image image mode=RGB size=64x64>"
      ]
     },
     "execution_count": 16,
     "metadata": {},
     "output_type": "execute_result"
    }
   ],
   "source": [
    "img"
   ]
  },
  {
   "cell_type": "code",
   "execution_count": 17,
   "id": "4cff39bd",
   "metadata": {},
   "outputs": [
    {
     "data": {
      "text/plain": [
       "array([2], dtype=int64)"
      ]
     },
     "execution_count": 17,
     "metadata": {},
     "output_type": "execute_result"
    }
   ],
   "source": [
    "x=image.img_to_array(img)\n",
    "x=np.expand_dims(x,axis=0)\n",
    "pred=model.predict_classes(x)\n",
    "pred"
   ]
  },
  {
   "cell_type": "code",
   "execution_count": 18,
   "id": "b52564a1",
   "metadata": {},
   "outputs": [
    {
     "data": {
      "text/plain": [
       "'Flood'"
      ]
     },
     "execution_count": 18,
     "metadata": {},
     "output_type": "execute_result"
    }
   ],
   "source": [
    "index=['Cyclone','Earthquake','Flood','Wildfire']\n",
    "result=str(index[pred[0]])\n",
    "result"
   ]
  },
  {
   "cell_type": "code",
   "execution_count": null,
   "id": "2708e244",
   "metadata": {},
   "outputs": [],
   "source": []
  },
  {
   "cell_type": "code",
   "execution_count": null,
   "id": "ae29c852",
   "metadata": {},
   "outputs": [],
   "source": []
  },
  {
   "cell_type": "code",
   "execution_count": null,
   "id": "58aad4bf",
   "metadata": {},
   "outputs": [],
   "source": []
  },
  {
   "cell_type": "code",
   "execution_count": null,
   "id": "8d3613d9",
   "metadata": {},
   "outputs": [],
   "source": []
  },
  {
   "cell_type": "code",
   "execution_count": null,
   "id": "c584f0b5",
   "metadata": {},
   "outputs": [],
   "source": []
  }
 ],
 "metadata": {
  "kernelspec": {
   "display_name": "Python 3 (ipykernel)",
   "language": "python",
   "name": "python3"
  },
  "language_info": {
   "codemirror_mode": {
    "name": "ipython",
    "version": 3
   },
   "file_extension": ".py",
   "mimetype": "text/x-python",
   "name": "python",
   "nbconvert_exporter": "python",
   "pygments_lexer": "ipython3",
   "version": "3.9.13"
  }
 },
 "nbformat": 4,
 "nbformat_minor": 5
}
